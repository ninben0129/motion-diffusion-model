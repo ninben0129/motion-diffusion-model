{
 "cells": [
  {
   "cell_type": "code",
   "execution_count": null,
   "id": "initial_id",
   "metadata": {
    "collapsed": true
   },
   "outputs": [],
   "source": [
    "import numpy as np\n",
    "\n",
    "# 調べたいnpyファイルのパス\n",
    "file_path = 'joint_vec.npy'\n",
    "\n",
    "# npyファイルの読み込み\n",
    "data = np.load(file_path, allow_pickle=True)  # allow_pickle=True は必要に応じて\n",
    "\n",
    "# 中身の基本情報を表示\n",
    "print(\"Type:\", type(data))\n",
    "if isinstance(data, np.ndarray):\n",
    "    print(\"Shape:\", data.shape)\n",
    "    print(\"Dtype:\", data.dtype)\n",
    "\n",
    "# 要素の一部を表示（大きすぎる場合のために一部だけ）\n",
    "print(\"\\nSample content:\")\n",
    "if data.ndim == 0:\n",
    "    print(data.item())\n",
    "else:\n",
    "    print(data[:1])\n"
   ]
  }
 ],
 "metadata": {
  "kernelspec": {
   "display_name": "Python 3",
   "language": "python",
   "name": "python3"
  },
  "language_info": {
   "codemirror_mode": {
    "name": "ipython",
    "version": 2
   },
   "file_extension": ".py",
   "mimetype": "text/x-python",
   "name": "python",
   "nbconvert_exporter": "python",
   "pygments_lexer": "ipython2",
   "version": "2.7.6"
  }
 },
 "nbformat": 4,
 "nbformat_minor": 5
}
